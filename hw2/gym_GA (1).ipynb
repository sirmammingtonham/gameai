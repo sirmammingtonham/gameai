{
  "nbformat": 4,
  "nbformat_minor": 0,
  "metadata": {
    "colab": {
      "name": "gym_GA.ipynb",
      "provenance": [],
      "collapsed_sections": []
    },
    "kernelspec": {
      "name": "python3",
      "display_name": "Python 3"
    }
  },
  "cells": [
    {
      "cell_type": "code",
      "metadata": {
        "id": "YITI9oD6Rlpr"
      },
      "source": [
        "%%capture\n",
        "!pip install gym\n",
        "!apt-get install python-opengl -y\n",
        "!apt install xvfb -y\n",
        "!pip install pyvirtualdisplay"
      ],
      "execution_count": 4,
      "outputs": []
    },
    {
      "cell_type": "code",
      "metadata": {
        "id": "zng3yEzTSqDp"
      },
      "source": [
        "#!pip install pyglet==v1.3.2"
      ],
      "execution_count": 5,
      "outputs": []
    },
    {
      "cell_type": "code",
      "metadata": {
        "id": "eAO1Pu3oSvvA",
        "outputId": "584158b7-5064-4492-febe-f911d2214fb1",
        "colab": {
          "base_uri": "https://localhost:8080/",
          "height": 34
        }
      },
      "source": [
        "from pyvirtualdisplay import Display\n",
        "display = Display(visible=0, size=(1400, 900))\n",
        "display.start()"
      ],
      "execution_count": 6,
      "outputs": [
        {
          "output_type": "execute_result",
          "data": {
            "text/plain": [
              "<pyvirtualdisplay.display.Display at 0x7f34916345c0>"
            ]
          },
          "metadata": {
            "tags": []
          },
          "execution_count": 6
        }
      ]
    },
    {
      "cell_type": "code",
      "metadata": {
        "id": "omhmxArqS6ci"
      },
      "source": [
        "import numpy as np\n",
        "import matplotlib.pyplot as plt\n",
        "%matplotlib inline\n",
        "\n",
        "# This code creates a virtual display to draw game images on. \n",
        "# If you are running locally, just ignore it\n",
        "import os\n",
        "if type(os.environ.get(\"DISPLAY\")) is not str or len(os.environ.get(\"DISPLAY\"))==0:\n",
        "    !bash ../xvfb start\n",
        "    %env DISPLAY=:1"
      ],
      "execution_count": 7,
      "outputs": []
    },
    {
      "cell_type": "code",
      "metadata": {
        "id": "8VcDR1QgHjG8"
      },
      "source": [
        "import torch\n",
        "import torch.nn as nn\n",
        "import torch.nn.functional as F\n",
        "from torch.autograd import Variable\n",
        "from torch.distributions import Categorical"
      ],
      "execution_count": 8,
      "outputs": []
    },
    {
      "cell_type": "code",
      "metadata": {
        "id": "P8rqCfvaHd6q"
      },
      "source": [
        "import copy\n",
        "import random\n",
        "from collections import OrderedDict"
      ],
      "execution_count": 9,
      "outputs": []
    },
    {
      "cell_type": "markdown",
      "metadata": {
        "id": "ZgwBG7GvTGuv"
      },
      "source": [
        "\n",
        "**OpenAI Gym**\n",
        "\n",
        "We're gonna spend several next weeks learning algorithms that solve decision processes. We are then in need of some interesting decision problems to test our algorithms.\n",
        "\n",
        "That's where OpenAI gym comes into play. It's a python library that wraps many classical decision problems including robot control, videogames and board games.\n",
        "\n",
        "So here's how it works:\n"
      ]
    },
    {
      "cell_type": "markdown",
      "metadata": {
        "id": "jz0VQUIbUQYI"
      },
      "source": [
        "reset() - reset environment to initial state, return first observation\n",
        "\n",
        "render() - show current environment state (a more colorful version :) )\n",
        "\n",
        "step(a) - commit action a and return (new observation, reward, is done, info)\n"
      ]
    },
    {
      "cell_type": "code",
      "metadata": {
        "id": "7q8TS4myqJ6L"
      },
      "source": [
        "import gym"
      ],
      "execution_count": 10,
      "outputs": []
    },
    {
      "cell_type": "markdown",
      "metadata": {
        "id": "21GHzMahU2fs"
      },
      "source": [
        "# Time to play\n",
        "\n",
        "Try tweaking t or action strategy\n",
        "\n",
        "**Remember**: Target is to reach to flag"
      ]
    },
    {
      "cell_type": "code",
      "metadata": {
        "id": "nqIcfluYFJKS"
      },
      "source": [
        "class NN2Layers(nn.Module):\n",
        "  def __init__(self):\n",
        "    super().__init__()\n",
        "    self.fc = nn.Sequential(\n",
        "      nn.Linear(4,128, bias=True),\n",
        "      nn.ReLU(),\n",
        "      nn.Linear(128,2, bias=True),\n",
        "      nn.Softmax(dim=1)\n",
        "    )\n",
        "\n",
        "    for param in self.parameters():\n",
        "      param.requires_grad = False\n",
        "\n",
        "  def forward(self, inputs):\n",
        "    x = self.fc(inputs)\n",
        "    return x\n",
        "\n",
        "  def select_action_from_policy(model, state):\n",
        "    state = torch.from_numpy(state).float().unsqueeze(0)\n",
        "    probs = model(state)\n",
        "    m = Categorical(probs)\n",
        "    action = m.sample()\n",
        "    return action.item(), m.log_prob(action)\n",
        "\n",
        "  def get_weights(self):\n",
        "    parameters = self.state_dict().values()\n",
        "    parameters = [p.flatten() for p in parameters]\n",
        "    parameters = torch.cat(parameters, 0)\n",
        "    return parameters.detach().numpy()\n",
        "\n",
        "  def update_weights(self, weights):\n",
        "    weights = torch.from_numpy(weights)\n",
        "    shapes = [x.shape for x in self.state_dict().values()]\n",
        "    shapes_prod = [torch.tensor(s).numpy().prod() for s in shapes]\n",
        "\n",
        "    partial_split = weights.split(shapes_prod)\n",
        "    model_weights = []\n",
        "    for i in range(len(shapes)):\n",
        "        model_weights.append(partial_split[i].view(shapes[i]))\n",
        "    state_dict = OrderedDict(zip(self.state_dict().keys(), model_weights))\n",
        "    self.load_state_dict(state_dict)"
      ],
      "execution_count": 22,
      "outputs": []
    },
    {
      "cell_type": "code",
      "metadata": {
        "id": "Vqlq2fRdj85m"
      },
      "source": [
        "class NN3LayersDropout(nn.Module):\n",
        "  def __init__(self):\n",
        "    super().__init__()\n",
        "    self.l1 = nn.Linear(4,128, bias=True)\n",
        "    self.l2 = nn.Linear(128, 512, bias=True)\n",
        "    self.dropout = nn.Dropout(p=0.1)\n",
        "    self.l3 = nn.Linear(512,1, bias=True)\n",
        "    self.t = nn.Tanh()\n",
        "\n",
        "    # torch.nn.init.xavier_uniform(self.weight)\n",
        "    # self.bias.data.fill_(0.00)\n",
        "    for param in self.parameters():\n",
        "      param.requires_grad = False\n",
        "\n",
        "  def forward(self, inputs):\n",
        "    x = F.relu(self.l1(inputs))\n",
        "    x = F.relu(self.l2(x))\n",
        "    x = self.dropout(x)\n",
        "    x= self.l3(x)\n",
        "    x = self.t(x)\n",
        "    return x\n",
        "\n",
        "  def select_action_from_policy(model, state):\n",
        "    state = torch.from_numpy(state).float().unsqueeze(0)\n",
        "    probs = model(state)\n",
        "    m = Categorical(probs)\n",
        "    action = m.sample()\n",
        "    return action.item(), m.log_prob(action)\n",
        "  \n",
        "  def get_weights(self):\n",
        "    parameters = self.state_dict().values()\n",
        "    parameters = [p.flatten() for p in parameters]\n",
        "    parameters = torch.cat(parameters, 0)\n",
        "    return parameters.detach().numpy()\n",
        "\n",
        "  def update_weights(self, weights):\n",
        "    weights = torch.from_numpy(weights)\n",
        "    shapes = [x.shape for x in self.state_dict().values()]\n",
        "    shapes_prod = [torch.tensor(s).numpy().prod() for s in shapes]\n",
        "\n",
        "    partial_split = weights.split(shapes_prod)\n",
        "    model_weights = []\n",
        "    for i in range(len(shapes)):\n",
        "        model_weights.append(partial_split[i].view(shapes[i]))\n",
        "    state_dict = OrderedDict(zip(self.state_dict().keys(), model_weights))\n",
        "    self.load_state_dict(state_dict)"
      ],
      "execution_count": 23,
      "outputs": []
    },
    {
      "cell_type": "code",
      "metadata": {
        "id": "hMfZTYJsFhmd"
      },
      "source": [
        "def get_starting_pop(num_agents):\n",
        "  agents = []\n",
        "  for _ in range(num_agents):\n",
        "    agent = NN2Layers()\n",
        "\n",
        "    for param in agent.parameters():\n",
        "      param.requires_grad = False\n",
        "\n",
        "    agents.append(agent)\n",
        "  return agents"
      ],
      "execution_count": 24,
      "outputs": []
    },
    {
      "cell_type": "code",
      "metadata": {
        "id": "0D-8VB0IFpqs"
      },
      "source": [
        "def mutate(agent, mutation_rate=0.7, max_change=0.5):\n",
        "  # child_agent = copy.deepcopy(agent)\n",
        "  child_weights = agent.get_weights()\n",
        "  mutation_power = 0.02 #hyper-parameter\n",
        "  severity = np.random.randint(10, 20) # change between 10 and 20 params\n",
        "  div = max_change*1000\n",
        "  if np.random.rand() < mutation_rate:\n",
        "    for _ in range(severity):\n",
        "      position = np.random.randint(0, child_weights.shape[0])\n",
        "\n",
        "      change = np.random.randint(0,div)/1000\n",
        "\n",
        "      if np.random.choice(['add','sub']) == 'add':\n",
        "          child_weights[position] = child_weights[position] + change\n",
        "      else:\n",
        "          child_weights[position] = child_weights[position] - change\n",
        "  \n",
        "  agent.update_weights(child_weights)\n",
        "\n",
        "  # return child_agent\n",
        "\n",
        "  # for param in child_agent.parameters():\n",
        "  #   if(len(param.shape)==2): #weights of linear layer\n",
        "  #     for i in range(param.shape[0]):\n",
        "  #       for j in range(param.shape[1]):\n",
        "  #           param[i][j] += mutation_power * np.random.randn()\n",
        "\n",
        "  #   elif(len(param.shape)==1): #biases of linear layer or conv layer\n",
        "  #     for i in range(param.shape[0]):\n",
        "  #       param[i] += mutation_power * np.random.randn()\n",
        "\n",
        "  # return child_agent"
      ],
      "execution_count": 52,
      "outputs": []
    },
    {
      "cell_type": "code",
      "metadata": {
        "id": "b86hwVLpR5fY"
      },
      "source": [
        "def crossover(parent1, parent2, crossover_rate):\n",
        "  child1_weights = parent1.get_weights()\n",
        "  child2_weights = parent2.get_weights()\n",
        "  position = np.random.randint(0, child1_weights.shape[0])\n",
        "\n",
        "  if np.random.rand() < crossover_rate:\n",
        "    child1_weights[position:], child2_weights[position:] = child2_weights[position:], child1_weights[position:]\n",
        "  \n",
        "  child1 = NN2Layers()\n",
        "  child1.update_weights(child1_weights)\n",
        "  child2 = NN2Layers()\n",
        "  child2.update_weights(child2_weights)\n",
        "  return child1, child2"
      ],
      "execution_count": 53,
      "outputs": []
    },
    {
      "cell_type": "code",
      "metadata": {
        "id": "8ycqXEkLKDAa"
      },
      "source": [
        "def roulette_selection(agents, rewards):\n",
        "    total_rewards = np.sum(rewards)\n",
        "    selection_probabilities = [reward / total_rewards for reward in rewards]\n",
        "    pick = np.random.choice(len(agents), p=selection_probabilities)\n",
        "    return agents[pick], rewards[pick]"
      ],
      "execution_count": 54,
      "outputs": []
    },
    {
      "cell_type": "code",
      "metadata": {
        "id": "r12BsKDvHIQC"
      },
      "source": [
        "def get_children(agents, rewards):\n",
        "  children_agents = []\n",
        "\n",
        "  for i in range(0, len(agents)-1, 2):\n",
        "    # parent selection\n",
        "    parent1, pfit1 = roulette_selection(agents, rewards)\n",
        "    parent2, pfit2 = roulette_selection(agents, rewards)\n",
        "\n",
        "    # crossover\n",
        "    child1, child2 = crossover(parent1, parent2, 0.9)\n",
        "\n",
        "    # mutation\n",
        "    mutate(child1)\n",
        "    mutate(child2)\n",
        "\n",
        "    # evaluate fitness of children\n",
        "    cfit1 = run_agent(child1)\n",
        "    cfit2 = run_agent(child2)\n",
        "\n",
        "    if cfit1 + cfit2 > pfit1 + pfit2:\n",
        "      # print(\"adding children\")\n",
        "      children_agents += [child1, child2]\n",
        "    else:\n",
        "      # print(\"adding parents\")\n",
        "      children_agents += [parent1, parent2]\n",
        "  return children_agents"
      ],
      "execution_count": 55,
      "outputs": []
    },
    {
      "cell_type": "code",
      "metadata": {
        "id": "Ie7fZ2RkJnR0"
      },
      "source": [
        "def run_agent(agent):\n",
        "  agent.eval()\n",
        "  observation = env.reset()\n",
        "  r=0\n",
        "  render = False\n",
        "  for _ in range(250):\n",
        "    if render:\n",
        "      env.render()\n",
        "    action, prob = agent.select_action_from_policy(observation)\n",
        "    observation, reward, done, info = env.step(action)\n",
        "    r += reward\n",
        "\n",
        "    if done:\n",
        "      break\n",
        "  return r"
      ],
      "execution_count": 56,
      "outputs": []
    },
    {
      "cell_type": "code",
      "metadata": {
        "id": "3Jl7HbnLQr4r"
      },
      "source": [
        "def run_rewards(agents, runs):\n",
        "  rewards = []\n",
        "  for agent in agents:\n",
        "    score = 0.0\n",
        "    for i in range(runs):\n",
        "      score += run_agent(agent)\n",
        "    rewards.append(score/runs)\n",
        "  return rewards"
      ],
      "execution_count": 57,
      "outputs": []
    },
    {
      "cell_type": "code",
      "metadata": {
        "id": "syqnl0ErLLb7",
        "outputId": "31c4b168-add3-453f-9b58-72ebc96c52f2",
        "colab": {
          "base_uri": "https://localhost:8080/",
          "height": 1000
        }
      },
      "source": [
        "torch.set_grad_enabled(False)\n",
        "\n",
        "num_agents = 500\n",
        "generations = 100\n",
        "\n",
        "env = gym.make(\"CartPole-v0\")\n",
        "agents = get_starting_pop(num_agents)\n",
        "\n",
        "progress_single = []\n",
        "progress_top_5 = []\n",
        "progress_mean = []\n",
        "\n",
        "for generation in range(generations):\n",
        "  rewards = run_rewards(agents, 3) # avg of 3 runs?\n",
        "\n",
        "  # sort by rewards\n",
        "  sorted_parents = np.argsort(rewards)[::-1]\n",
        "  \n",
        "  top_rewards = []\n",
        "  for best_parent in sorted_parents[:20]:\n",
        "    top_rewards.append(rewards[best_parent])\n",
        "  \n",
        "  print(f\"Gen {generation}, Mean rewards: {np.mean(rewards):.4f},  Mean of top 5: {np.mean(top_rewards[:5]):.4f}, Top agent: {top_rewards[0]:.4f}\")\n",
        "  progress_single.append(top_rewards[0])\n",
        "  progress_top_5.append(np.mean(top_rewards[:5]))\n",
        "  progress_mean.append(np.mean(rewards))\n",
        "\n",
        "  agents = get_children(agents, rewards)"
      ],
      "execution_count": 58,
      "outputs": [
        {
          "output_type": "stream",
          "text": [
            "Gen 0, Mean rewards: 21.6047,  Mean of top 5: 49.4000, Top agent: 58.3333\n",
            "Gen 1, Mean rewards: 22.2533,  Mean of top 5: 45.7333, Top agent: 51.3333\n",
            "Gen 2, Mean rewards: 22.2347,  Mean of top 5: 47.9333, Top agent: 51.0000\n",
            "Gen 3, Mean rewards: 22.6787,  Mean of top 5: 47.6000, Top agent: 50.6667\n",
            "Gen 4, Mean rewards: 22.9053,  Mean of top 5: 54.7333, Top agent: 63.3333\n",
            "Gen 5, Mean rewards: 22.9547,  Mean of top 5: 58.4000, Top agent: 66.0000\n",
            "Gen 6, Mean rewards: 23.5253,  Mean of top 5: 53.9333, Top agent: 62.6667\n",
            "Gen 7, Mean rewards: 23.3413,  Mean of top 5: 54.8667, Top agent: 65.3333\n",
            "Gen 8, Mean rewards: 24.5460,  Mean of top 5: 60.1333, Top agent: 62.3333\n",
            "Gen 9, Mean rewards: 24.7893,  Mean of top 5: 55.9333, Top agent: 59.6667\n",
            "Gen 10, Mean rewards: 24.7600,  Mean of top 5: 60.9333, Top agent: 68.6667\n",
            "Gen 11, Mean rewards: 25.2093,  Mean of top 5: 58.3333, Top agent: 60.0000\n",
            "Gen 12, Mean rewards: 26.0000,  Mean of top 5: 69.6000, Top agent: 86.0000\n",
            "Gen 13, Mean rewards: 26.3587,  Mean of top 5: 59.2667, Top agent: 61.3333\n",
            "Gen 14, Mean rewards: 28.4260,  Mean of top 5: 82.2000, Top agent: 110.3333\n",
            "Gen 15, Mean rewards: 28.1107,  Mean of top 5: 71.3333, Top agent: 90.3333\n",
            "Gen 16, Mean rewards: 29.3373,  Mean of top 5: 75.0000, Top agent: 78.0000\n",
            "Gen 17, Mean rewards: 30.7107,  Mean of top 5: 74.1333, Top agent: 86.3333\n",
            "Gen 18, Mean rewards: 31.0527,  Mean of top 5: 71.8667, Top agent: 93.3333\n",
            "Gen 19, Mean rewards: 32.9573,  Mean of top 5: 78.0000, Top agent: 80.3333\n",
            "Gen 20, Mean rewards: 33.0107,  Mean of top 5: 83.3333, Top agent: 93.3333\n",
            "Gen 21, Mean rewards: 34.1000,  Mean of top 5: 86.0000, Top agent: 106.0000\n",
            "Gen 22, Mean rewards: 35.3407,  Mean of top 5: 78.8667, Top agent: 81.0000\n",
            "Gen 23, Mean rewards: 34.8520,  Mean of top 5: 80.4000, Top agent: 86.6667\n",
            "Gen 24, Mean rewards: 36.6640,  Mean of top 5: 81.8667, Top agent: 83.6667\n",
            "Gen 25, Mean rewards: 35.7687,  Mean of top 5: 88.0667, Top agent: 98.6667\n",
            "Gen 26, Mean rewards: 37.1780,  Mean of top 5: 88.6667, Top agent: 106.0000\n",
            "Gen 27, Mean rewards: 37.5887,  Mean of top 5: 84.3333, Top agent: 87.3333\n",
            "Gen 28, Mean rewards: 39.0867,  Mean of top 5: 97.4000, Top agent: 105.6667\n",
            "Gen 29, Mean rewards: 41.1247,  Mean of top 5: 99.0000, Top agent: 103.6667\n",
            "Gen 30, Mean rewards: 42.5227,  Mean of top 5: 100.2000, Top agent: 123.6667\n",
            "Gen 31, Mean rewards: 42.0667,  Mean of top 5: 112.2667, Top agent: 116.0000\n",
            "Gen 32, Mean rewards: 46.5407,  Mean of top 5: 115.8667, Top agent: 126.6667\n",
            "Gen 33, Mean rewards: 49.6480,  Mean of top 5: 142.3333, Top agent: 164.0000\n",
            "Gen 34, Mean rewards: 51.8453,  Mean of top 5: 127.2667, Top agent: 138.3333\n",
            "Gen 35, Mean rewards: 53.5347,  Mean of top 5: 134.6667, Top agent: 146.0000\n",
            "Gen 36, Mean rewards: 57.4620,  Mean of top 5: 137.4000, Top agent: 144.0000\n",
            "Gen 37, Mean rewards: 61.6260,  Mean of top 5: 137.4667, Top agent: 150.0000\n",
            "Gen 38, Mean rewards: 63.1200,  Mean of top 5: 142.2667, Top agent: 167.0000\n",
            "Gen 39, Mean rewards: 67.1747,  Mean of top 5: 144.4667, Top agent: 165.6667\n",
            "Gen 40, Mean rewards: 67.3593,  Mean of top 5: 144.6667, Top agent: 150.3333\n",
            "Gen 41, Mean rewards: 68.5527,  Mean of top 5: 146.4667, Top agent: 164.6667\n",
            "Gen 42, Mean rewards: 70.8620,  Mean of top 5: 153.1333, Top agent: 159.6667\n",
            "Gen 43, Mean rewards: 73.0747,  Mean of top 5: 154.1333, Top agent: 167.3333\n",
            "Gen 44, Mean rewards: 74.3153,  Mean of top 5: 159.2000, Top agent: 196.3333\n",
            "Gen 45, Mean rewards: 77.6480,  Mean of top 5: 168.7333, Top agent: 173.0000\n",
            "Gen 46, Mean rewards: 79.1760,  Mean of top 5: 166.0000, Top agent: 192.0000\n",
            "Gen 47, Mean rewards: 79.8760,  Mean of top 5: 167.7333, Top agent: 176.3333\n",
            "Gen 48, Mean rewards: 83.3720,  Mean of top 5: 167.7333, Top agent: 173.6667\n",
            "Gen 49, Mean rewards: 86.0400,  Mean of top 5: 174.0667, Top agent: 184.6667\n",
            "Gen 50, Mean rewards: 90.2867,  Mean of top 5: 182.6000, Top agent: 195.0000\n",
            "Gen 51, Mean rewards: 90.9020,  Mean of top 5: 183.9333, Top agent: 198.6667\n",
            "Gen 52, Mean rewards: 92.3760,  Mean of top 5: 183.2000, Top agent: 192.0000\n",
            "Gen 53, Mean rewards: 96.6407,  Mean of top 5: 182.1333, Top agent: 190.0000\n",
            "Gen 54, Mean rewards: 103.7213,  Mean of top 5: 194.1333, Top agent: 200.0000\n",
            "Gen 55, Mean rewards: 104.9073,  Mean of top 5: 190.5333, Top agent: 200.0000\n",
            "Gen 56, Mean rewards: 102.9620,  Mean of top 5: 187.5333, Top agent: 197.0000\n",
            "Gen 57, Mean rewards: 106.4900,  Mean of top 5: 191.8000, Top agent: 200.0000\n",
            "Gen 58, Mean rewards: 105.4640,  Mean of top 5: 195.6000, Top agent: 200.0000\n",
            "Gen 59, Mean rewards: 108.9087,  Mean of top 5: 192.4667, Top agent: 200.0000\n",
            "Gen 60, Mean rewards: 110.0120,  Mean of top 5: 196.2667, Top agent: 200.0000\n",
            "Gen 61, Mean rewards: 110.5993,  Mean of top 5: 191.6000, Top agent: 200.0000\n",
            "Gen 62, Mean rewards: 112.4133,  Mean of top 5: 194.0667, Top agent: 200.0000\n",
            "Gen 63, Mean rewards: 117.1333,  Mean of top 5: 195.3333, Top agent: 199.3333\n",
            "Gen 64, Mean rewards: 120.0973,  Mean of top 5: 195.2667, Top agent: 200.0000\n",
            "Gen 65, Mean rewards: 121.0647,  Mean of top 5: 200.0000, Top agent: 200.0000\n",
            "Gen 66, Mean rewards: 122.6207,  Mean of top 5: 199.8667, Top agent: 200.0000\n",
            "Gen 67, Mean rewards: 127.0367,  Mean of top 5: 199.6667, Top agent: 200.0000\n",
            "Gen 68, Mean rewards: 127.3487,  Mean of top 5: 200.0000, Top agent: 200.0000\n",
            "Gen 69, Mean rewards: 130.2300,  Mean of top 5: 200.0000, Top agent: 200.0000\n",
            "Gen 70, Mean rewards: 131.3120,  Mean of top 5: 200.0000, Top agent: 200.0000\n",
            "Gen 71, Mean rewards: 133.4380,  Mean of top 5: 200.0000, Top agent: 200.0000\n",
            "Gen 72, Mean rewards: 134.6747,  Mean of top 5: 200.0000, Top agent: 200.0000\n",
            "Gen 73, Mean rewards: 135.0153,  Mean of top 5: 200.0000, Top agent: 200.0000\n",
            "Gen 74, Mean rewards: 136.7247,  Mean of top 5: 200.0000, Top agent: 200.0000\n",
            "Gen 75, Mean rewards: 138.4193,  Mean of top 5: 200.0000, Top agent: 200.0000\n",
            "Gen 76, Mean rewards: 140.2307,  Mean of top 5: 200.0000, Top agent: 200.0000\n",
            "Gen 77, Mean rewards: 143.7120,  Mean of top 5: 200.0000, Top agent: 200.0000\n",
            "Gen 78, Mean rewards: 143.8447,  Mean of top 5: 200.0000, Top agent: 200.0000\n",
            "Gen 79, Mean rewards: 144.1393,  Mean of top 5: 200.0000, Top agent: 200.0000\n",
            "Gen 80, Mean rewards: 145.4840,  Mean of top 5: 200.0000, Top agent: 200.0000\n",
            "Gen 81, Mean rewards: 147.9747,  Mean of top 5: 200.0000, Top agent: 200.0000\n",
            "Gen 82, Mean rewards: 148.9173,  Mean of top 5: 200.0000, Top agent: 200.0000\n",
            "Gen 83, Mean rewards: 149.9993,  Mean of top 5: 200.0000, Top agent: 200.0000\n",
            "Gen 84, Mean rewards: 154.4787,  Mean of top 5: 200.0000, Top agent: 200.0000\n",
            "Gen 85, Mean rewards: 149.9493,  Mean of top 5: 200.0000, Top agent: 200.0000\n",
            "Gen 86, Mean rewards: 153.5580,  Mean of top 5: 200.0000, Top agent: 200.0000\n",
            "Gen 87, Mean rewards: 156.5227,  Mean of top 5: 200.0000, Top agent: 200.0000\n"
          ],
          "name": "stdout"
        },
        {
          "output_type": "error",
          "ename": "KeyboardInterrupt",
          "evalue": "ignored",
          "traceback": [
            "\u001b[0;31m---------------------------------------------------------------------------\u001b[0m",
            "\u001b[0;31mKeyboardInterrupt\u001b[0m                         Traceback (most recent call last)",
            "\u001b[0;32m<ipython-input-58-60f579218672>\u001b[0m in \u001b[0;36m<module>\u001b[0;34m()\u001b[0m\n\u001b[1;32m     12\u001b[0m \u001b[0;34m\u001b[0m\u001b[0m\n\u001b[1;32m     13\u001b[0m \u001b[0;32mfor\u001b[0m \u001b[0mgeneration\u001b[0m \u001b[0;32min\u001b[0m \u001b[0mrange\u001b[0m\u001b[0;34m(\u001b[0m\u001b[0mgenerations\u001b[0m\u001b[0;34m)\u001b[0m\u001b[0;34m:\u001b[0m\u001b[0;34m\u001b[0m\u001b[0;34m\u001b[0m\u001b[0m\n\u001b[0;32m---> 14\u001b[0;31m   \u001b[0mrewards\u001b[0m \u001b[0;34m=\u001b[0m \u001b[0mrun_rewards\u001b[0m\u001b[0;34m(\u001b[0m\u001b[0magents\u001b[0m\u001b[0;34m,\u001b[0m \u001b[0;36m3\u001b[0m\u001b[0;34m)\u001b[0m \u001b[0;31m# avg of 3 runs?\u001b[0m\u001b[0;34m\u001b[0m\u001b[0;34m\u001b[0m\u001b[0m\n\u001b[0m\u001b[1;32m     15\u001b[0m \u001b[0;34m\u001b[0m\u001b[0m\n\u001b[1;32m     16\u001b[0m   \u001b[0;31m# sort by rewards\u001b[0m\u001b[0;34m\u001b[0m\u001b[0;34m\u001b[0m\u001b[0;34m\u001b[0m\u001b[0m\n",
            "\u001b[0;32m<ipython-input-57-0e25867b24aa>\u001b[0m in \u001b[0;36mrun_rewards\u001b[0;34m(agents, runs)\u001b[0m\n\u001b[1;32m      4\u001b[0m     \u001b[0mscore\u001b[0m \u001b[0;34m=\u001b[0m \u001b[0;36m0.0\u001b[0m\u001b[0;34m\u001b[0m\u001b[0;34m\u001b[0m\u001b[0m\n\u001b[1;32m      5\u001b[0m     \u001b[0;32mfor\u001b[0m \u001b[0mi\u001b[0m \u001b[0;32min\u001b[0m \u001b[0mrange\u001b[0m\u001b[0;34m(\u001b[0m\u001b[0mruns\u001b[0m\u001b[0;34m)\u001b[0m\u001b[0;34m:\u001b[0m\u001b[0;34m\u001b[0m\u001b[0;34m\u001b[0m\u001b[0m\n\u001b[0;32m----> 6\u001b[0;31m       \u001b[0mscore\u001b[0m \u001b[0;34m+=\u001b[0m \u001b[0mrun_agent\u001b[0m\u001b[0;34m(\u001b[0m\u001b[0magent\u001b[0m\u001b[0;34m)\u001b[0m\u001b[0;34m\u001b[0m\u001b[0;34m\u001b[0m\u001b[0m\n\u001b[0m\u001b[1;32m      7\u001b[0m     \u001b[0mrewards\u001b[0m\u001b[0;34m.\u001b[0m\u001b[0mappend\u001b[0m\u001b[0;34m(\u001b[0m\u001b[0mscore\u001b[0m\u001b[0;34m/\u001b[0m\u001b[0mruns\u001b[0m\u001b[0;34m)\u001b[0m\u001b[0;34m\u001b[0m\u001b[0;34m\u001b[0m\u001b[0m\n\u001b[1;32m      8\u001b[0m   \u001b[0;32mreturn\u001b[0m \u001b[0mrewards\u001b[0m\u001b[0;34m\u001b[0m\u001b[0;34m\u001b[0m\u001b[0m\n",
            "\u001b[0;32m<ipython-input-56-ebcecc691616>\u001b[0m in \u001b[0;36mrun_agent\u001b[0;34m(agent)\u001b[0m\n\u001b[1;32m      7\u001b[0m     \u001b[0;32mif\u001b[0m \u001b[0mrender\u001b[0m\u001b[0;34m:\u001b[0m\u001b[0;34m\u001b[0m\u001b[0;34m\u001b[0m\u001b[0m\n\u001b[1;32m      8\u001b[0m       \u001b[0menv\u001b[0m\u001b[0;34m.\u001b[0m\u001b[0mrender\u001b[0m\u001b[0;34m(\u001b[0m\u001b[0;34m)\u001b[0m\u001b[0;34m\u001b[0m\u001b[0;34m\u001b[0m\u001b[0m\n\u001b[0;32m----> 9\u001b[0;31m     \u001b[0maction\u001b[0m\u001b[0;34m,\u001b[0m \u001b[0mprob\u001b[0m \u001b[0;34m=\u001b[0m \u001b[0magent\u001b[0m\u001b[0;34m.\u001b[0m\u001b[0mselect_action_from_policy\u001b[0m\u001b[0;34m(\u001b[0m\u001b[0mobservation\u001b[0m\u001b[0;34m)\u001b[0m\u001b[0;34m\u001b[0m\u001b[0;34m\u001b[0m\u001b[0m\n\u001b[0m\u001b[1;32m     10\u001b[0m     \u001b[0mobservation\u001b[0m\u001b[0;34m,\u001b[0m \u001b[0mreward\u001b[0m\u001b[0;34m,\u001b[0m \u001b[0mdone\u001b[0m\u001b[0;34m,\u001b[0m \u001b[0minfo\u001b[0m \u001b[0;34m=\u001b[0m \u001b[0menv\u001b[0m\u001b[0;34m.\u001b[0m\u001b[0mstep\u001b[0m\u001b[0;34m(\u001b[0m\u001b[0maction\u001b[0m\u001b[0;34m)\u001b[0m\u001b[0;34m\u001b[0m\u001b[0;34m\u001b[0m\u001b[0m\n\u001b[1;32m     11\u001b[0m     \u001b[0mr\u001b[0m \u001b[0;34m+=\u001b[0m \u001b[0mreward\u001b[0m\u001b[0;34m\u001b[0m\u001b[0;34m\u001b[0m\u001b[0m\n",
            "\u001b[0;32m<ipython-input-22-7113fa1038b5>\u001b[0m in \u001b[0;36mselect_action_from_policy\u001b[0;34m(model, state)\u001b[0m\n\u001b[1;32m     17\u001b[0m \u001b[0;34m\u001b[0m\u001b[0m\n\u001b[1;32m     18\u001b[0m   \u001b[0;32mdef\u001b[0m \u001b[0mselect_action_from_policy\u001b[0m\u001b[0;34m(\u001b[0m\u001b[0mmodel\u001b[0m\u001b[0;34m,\u001b[0m \u001b[0mstate\u001b[0m\u001b[0;34m)\u001b[0m\u001b[0;34m:\u001b[0m\u001b[0;34m\u001b[0m\u001b[0;34m\u001b[0m\u001b[0m\n\u001b[0;32m---> 19\u001b[0;31m     \u001b[0mstate\u001b[0m \u001b[0;34m=\u001b[0m \u001b[0mtorch\u001b[0m\u001b[0;34m.\u001b[0m\u001b[0mfrom_numpy\u001b[0m\u001b[0;34m(\u001b[0m\u001b[0mstate\u001b[0m\u001b[0;34m)\u001b[0m\u001b[0;34m.\u001b[0m\u001b[0mfloat\u001b[0m\u001b[0;34m(\u001b[0m\u001b[0;34m)\u001b[0m\u001b[0;34m.\u001b[0m\u001b[0munsqueeze\u001b[0m\u001b[0;34m(\u001b[0m\u001b[0;36m0\u001b[0m\u001b[0;34m)\u001b[0m\u001b[0;34m\u001b[0m\u001b[0;34m\u001b[0m\u001b[0m\n\u001b[0m\u001b[1;32m     20\u001b[0m     \u001b[0mprobs\u001b[0m \u001b[0;34m=\u001b[0m \u001b[0mmodel\u001b[0m\u001b[0;34m(\u001b[0m\u001b[0mstate\u001b[0m\u001b[0;34m)\u001b[0m\u001b[0;34m\u001b[0m\u001b[0;34m\u001b[0m\u001b[0m\n\u001b[1;32m     21\u001b[0m     \u001b[0mm\u001b[0m \u001b[0;34m=\u001b[0m \u001b[0mCategorical\u001b[0m\u001b[0;34m(\u001b[0m\u001b[0mprobs\u001b[0m\u001b[0;34m)\u001b[0m\u001b[0;34m\u001b[0m\u001b[0;34m\u001b[0m\u001b[0m\n",
            "\u001b[0;31mKeyboardInterrupt\u001b[0m: "
          ]
        }
      ]
    },
    {
      "cell_type": "code",
      "metadata": {
        "id": "4YiQFoAVu31E"
      },
      "source": [
        "import seaborn as sns\n",
        "import pandas as pd"
      ],
      "execution_count": 59,
      "outputs": []
    },
    {
      "cell_type": "code",
      "metadata": {
        "id": "rxyZn_LnmSEB",
        "outputId": "0de48ec1-572f-49b5-91e7-0e4e6be483ab",
        "colab": {
          "base_uri": "https://localhost:8080/",
          "height": 34
        }
      },
      "source": [
        "print(generations)"
      ],
      "execution_count": 62,
      "outputs": [
        {
          "output_type": "stream",
          "text": [
            "100\n"
          ],
          "name": "stdout"
        }
      ]
    },
    {
      "cell_type": "code",
      "metadata": {
        "id": "YtafayeI2Tjn",
        "outputId": "5947130c-4aa7-42ed-ba0c-4d8881890901",
        "colab": {
          "base_uri": "https://localhost:8080/",
          "height": 352
        }
      },
      "source": [
        "#run mutation rate = 0.85, mutation power = 0.02, nn2 3 layers + dropout\n",
        "d = {'generation': range(len(progress_mean)), 'mean rewards': progress_mean, 'top 5 mean rewards': progress_top_5, 'top agent rewards': progress_single }\n",
        "df = pd.DataFrame(d)\n",
        "\n",
        "df = df.melt('generation', var_name='data_type', value_name='reward')\n",
        "\n",
        "g = sns.catplot(x=\"generation\", y=\"reward\", hue='data_type', kind=\"point\", data=df, size=4, aspect = 2).set_xticklabels(rotation=60)"
      ],
      "execution_count": 63,
      "outputs": [
        {
          "output_type": "stream",
          "text": [
            "/usr/local/lib/python3.6/dist-packages/seaborn/categorical.py:3737: UserWarning: The `size` parameter has been renamed to `height`; please update your code.\n",
            "  warnings.warn(msg, UserWarning)\n"
          ],
          "name": "stderr"
        },
        {
          "output_type": "display_data",
          "data": {
            "image/png": "[encoded data removed]",
            "text/plain": [
              "<Figure size 712x288 with 1 Axes>"
            ]
          },
          "metadata": {
            "tags": [],
            "needs_background": "light"
          }
        }
      ]
    },
    {
      "cell_type": "markdown",
      "metadata": {
        "id": "GVCB-6PNwzgp"
      },
      "source": [
        ""
      ]
    },
    {
      "cell_type": "markdown",
      "metadata": {
        "id": "6ER8jZ8fwzvg"
      },
      "source": [
        "# Finished results"
      ]
    },
    {
      "cell_type": "code",
      "metadata": {
        "id": "e_1Lc1TupzDt",
        "outputId": "72bd2ec8-693d-487f-e3ce-b004cb50a0b0",
        "colab": {
          "base_uri": "https://localhost:8080/",
          "height": 352
        }
      },
      "source": [
        "#run mutation rate = 0.85, mutation power = 0.02, nn1 2 layers\n",
        "d = {'generation': range(generations), 'mean rewards': progress_mean, 'top 5 mean rewards': progress_top_5, 'top agent rewards': progress_single }\n",
        "df = pd.DataFrame(d)\n",
        "\n",
        "df = df.melt('generation', var_name='data_type', value_name='reward')\n",
        "\n",
        "g = sns.catplot(x=\"generation\", y=\"reward\", hue='data_type', kind=\"point\", data=df, size=4, aspect = 2).set_xticklabels(rotation=60)"
      ],
      "execution_count": 58,
      "outputs": [
        {
          "output_type": "stream",
          "text": [
            "/usr/local/lib/python3.6/dist-packages/seaborn/categorical.py:3737: UserWarning: The `size` parameter has been renamed to `height`; please update your code.\n",
            "  warnings.warn(msg, UserWarning)\n"
          ],
          "name": "stderr"
        },
        {
          "output_type": "display_data",
          "data": {
            "image/png": "[encoded data removed]",
            "text/plain": [
              "<Figure size 712x288 with 1 Axes>"
            ]
          },
          "metadata": {
            "tags": [],
            "needs_background": "light"
          }
        }
      ]
    },
    {
      "cell_type": "markdown",
      "metadata": {
        "id": "ycuL6GIjLY-P"
      },
      "source": [
        "Generation 0, Mean rewards: 21.552,  Mean of top 5: 48.06666666666667\n",
        "Generation 1, Mean rewards: 23.220238095238095,  Mean of top 5: 53.666666666666664\n",
        "Generation 2, Mean rewards: 24.443569553805776,  Mean of top 5: 60.333333333333336\n",
        "Generation 3, Mean rewards: 25.078125,  Mean of top 5: 53.133333333333326\n",
        "Generation 4, Mean rewards: 25.72545219638243,  Mean of top 5: 59.06666666666666\n",
        "Generation 5, Mean rewards: 27.644871794871797,  Mean of top 5: 63.2\n",
        "Generation 6, Mean rewards: 28.73155216284987,  Mean of top 5: 61.33333333333333\n",
        "Generation 7, Mean rewards: 30.27020202020202,  Mean of top 5: 70.79999999999998\n",
        "Generation 8, Mean rewards: 33.212406015037594,  Mean of top 5: 87.73333333333333\n",
        "Generation 9, Mean rewards: 34.06716417910448,  Mean of top 5: 88.73333333333332\n",
        "Generation 10, Mean rewards: 34.1216049382716,  Mean of top 5: 77.66666666666666\n",
        "Generation 11, Mean rewards: 34.1452205882353,  Mean of top 5: 74.53333333333333\n",
        "Generation 12, Mean rewards: 35.10401459854015,  Mean of top 5: 84.73333333333333\n",
        "Generation 13, Mean rewards: 36.67632850241546,  Mean of top 5: 87.4\n",
        "Generation 14, Mean rewards: 38.367505995203835,  Mean of top 5: 83.06666666666668\n",
        "Generation 15, Mean rewards: 37.10833333333333,  Mean of top 5: 85.53333333333333\n",
        "Generation 16, Mean rewards: 39.989952718676115,  Mean of top 5: 92.4\n",
        "Generation 17, Mean rewards: 40.83978873239437,  Mean of top 5: 87.13333333333334\n",
        "Generation 18, Mean rewards: 43.163752913752916,  Mean of top 5: 101.2\n",
        "Generation 19, Mean rewards: 43.21875,  Mean of top 5: 107.86666666666667\n",
        "Generation 20, Mean rewards: 45.40114942528736,  Mean of top 5: 106.33333333333334\n",
        "Generation 21, Mean rewards: 47.47260273972603,  Mean of top 5: 107.53333333333333\n",
        "Generation 22, Mean rewards: 50.4109977324263,  Mean of top 5: 111.46666666666667\n",
        "Generation 23, Mean rewards: 51.810810810810814,  Mean of top 5: 110.73333333333332\n",
        "Generation 24, Mean rewards: 52.256711409395976,  Mean of top 5: 110.73333333333332\n",
        "Generation 25, Mean rewards: 54.807222222222215,  Mean of top 5: 122.53333333333333\n",
        "Generation 26, Mean rewards: 55.891280353200884,  Mean of top 5: 131.4\n",
        "Generation 27, Mean rewards: 57.228070175438596,  Mean of top 5: 122.26666666666665\n",
        "Generation 28, Mean rewards: 59.39161220043574,  Mean of top 5: 126.46666666666667\n",
        "Generation 29, Mean rewards: 59.98863636363637,  Mean of top 5: 133.2\n",
        "Generation 30, Mean rewards: 58.29354838709678,  Mean of top 5: 127.86666666666665\n",
        "Generation 31, Mean rewards: 62.20032051282051,  Mean of top 5: 142.33333333333331\n",
        "Generation 32, Mean rewards: 62.89225053078557,  Mean of top 5: 149.66666666666669\n",
        "Generation 33, Mean rewards: 67.54799578059072,  Mean of top 5: 141.06666666666666\n",
        "Generation 34, Mean rewards: 71.89989517819706,  Mean of top 5: 146.66666666666669\n",
        "Generation 35, Mean rewards: 70.50520833333334,  Mean of top 5: 149.93333333333334\n",
        "Generation 36, Mean rewards: 73.86749482401656,  Mean of top 5: 155.53333333333336\n",
        "Generation 37, Mean rewards: 71.1738683127572,  Mean of top 5: 153.73333333333335\n",
        "Generation 38, Mean rewards: 72.81697341513292,  Mean of top 5: 155.4666666666667\n",
        "Generation 39, Mean rewards: 73.83130081300813,  Mean of top 5: 155.13333333333333\n",
        "Generation 40, Mean rewards: 78.17323232323231,  Mean of top 5: 161.93333333333334\n",
        "Generation 41, Mean rewards: 83.13855421686748,  Mean of top 5: 172.93333333333334\n",
        "Generation 42, Mean rewards: 84.59081836327346,  Mean of top 5: 160.46666666666664\n",
        "Generation 43, Mean rewards: 87.67559523809524,  Mean of top 5: 167.73333333333335\n",
        "Generation 44, Mean rewards: 90.64151873767258,  Mean of top 5: 172.86666666666667\n",
        "Generation 45, Mean rewards: 96.02450980392156,  Mean of top 5: 178.46666666666664\n",
        "Generation 46, Mean rewards: 98.16959064327486,  Mean of top 5: 180.13333333333333\n",
        "Generation 47, Mean rewards: 103.01405038759691,  Mean of top 5: 192.6\n",
        "Generation 48, Mean rewards: 108.01300578034682,  Mean of top 5: 182.86666666666667\n",
        "Generation 49, Mean rewards: 109.08668582375478,  Mean of top 5: 190.33333333333331\n",
        "Generation 50, Mean rewards: 114.79523809523808,  Mean of top 5: 190.66666666666669\n",
        "Generation 51, Mean rewards: 113.28219696969695,  Mean of top 5: 196.13333333333333\n",
        "Generation 52, Mean rewards: 115.05084745762711,  Mean of top 5: 191.46666666666667\n",
        "Generation 53, Mean rewards: 118.68539325842697,  Mean of top 5: 194.4\n",
        "Generation 54, Mean rewards: 119.21042830540038,  Mean of top 5: 198.46666666666667\n",
        "Generation 55, Mean rewards: 120.8523148148148,  Mean of top 5: 196.6\n",
        "Generation 56, Mean rewards: 129.46593001841623,  Mean of top 5: 200.0\n",
        "Generation 57, Mean rewards: 127.12133699633699,  Mean of top 5: 199.0\n",
        "Generation 58, Mean rewards: 132.1643897996357,  Mean of top 5: 200.0\n",
        "Generation 59, Mean rewards: 135.68840579710144,  Mean of top 5: 200.0\n",
        "Generation 60, Mean rewards: 144.21396396396398,  Mean of top 5: 200.0\n",
        "Generation 61, Mean rewards: 146.62051971326164,  Mean of top 5: 200.0"
      ]
    },
    {
      "cell_type": "code",
      "metadata": {
        "id": "TW118SoOLZj2"
      },
      "source": [
        "print(\"results :\")"
      ],
      "execution_count": null,
      "outputs": []
    }
  ]
}